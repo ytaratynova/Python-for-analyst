{
 "cells": [
  {
   "cell_type": "markdown",
   "id": "2d49f264",
   "metadata": {},
   "source": [
    "# Урок 1. Оформление ноутбука и закрепление функций и генераторов\n"
   ]
  },
  {
   "cell_type": "markdown",
   "id": "ab7b9739",
   "metadata": {},
   "source": [
    "## Условие 1:\n",
    "\n",
    "Оформляйте ноутбук, используя эти советы:\n",
    "Номер задачи - заголовок 2.  \n",
    "Номер подзадачи - заголовок 3.  \n",
    "Предоставленные наборы данных оформляйте, как код.  \n",
    "Рекомендации для преподавателей по оценке задания:  \n",
    "Смотреть, чтобы студент красиво оформлял ноутбук, использовал ячейки с текстом, указывал номера заданий."
   ]
  },
  {
   "cell_type": "markdown",
   "id": "fed1a91a",
   "metadata": {},
   "source": [
    "## Условие 2:\n",
    "На складе лежат разные фрукты в разном количестве.\n",
    "Нужно написать функцию, которая на вход принимает любое количество названий фруктов и их количество,\n",
    "а возвращает общее количество фруктов на складе"
   ]
  },
  {
   "cell_type": "code",
   "execution_count": 12,
   "id": "9b224bbd",
   "metadata": {},
   "outputs": [
    {
     "name": "stdout",
     "output_type": "stream",
     "text": [
      "Общее количество фруктов на складе: 20\n"
     ]
    }
   ],
   "source": [
    "def stock(**fruits):\n",
    "   return sum(fruits.values())\n",
    "\n",
    "fruits = {'груша': 5, 'яблоко': 12, 'слива': 3}\n",
    "print(\"Общее количество фруктов на складе:\", stock(**fruits))"
   ]
  },
  {
   "cell_type": "markdown",
   "id": "c30d6f78",
   "metadata": {},
   "source": [
    "## Условие 3:\n",
    "Дан список с затратами на рекламу. \n",
    "Но в данных есть ошибки, некоторые затраты имеют отрицательную величину.  \n",
    "Удалите такие значения из списка и посчитайте суммарные затраты\n",
    "[100, 125, -90, 345, 655, -1, 0, 200]  \n",
    "Используйте list comprehensions"
   ]
  },
  {
   "cell_type": "code",
   "execution_count": 15,
   "id": "73c79e04",
   "metadata": {},
   "outputs": [
    {
     "name": "stdout",
     "output_type": "stream",
     "text": [
      "Суммарные затраты на рекламу: 1425\n"
     ]
    }
   ],
   "source": [
    "costs = [100, 125, -90, 345, 655, -1, 0, 200]\n",
    "correct_costs = [i for i in costs if i > 0]\n",
    "print(\"Суммарные затраты на рекламу:\", sum(correct_costs))"
   ]
  },
  {
   "cell_type": "markdown",
   "id": "550c5891",
   "metadata": {},
   "source": [
    "## Условие 4:\n",
    "Даны два списка.  \n",
    "Дата покупки  \n",
    "['2021-09-14', '2021-12-15', '2021-09-08', '2021-12-05', '2021-10-09', '2021-09-30', '2021-12-22', '2021-11-29', '2021-12-24', '2021-11-26', '2021-10-27', '2021-12-18', '2021-11-09', '2021-11-23', '2021-09-27', '2021-10-02', '2021-12-27', '2021-09-20', '2021-12-13', '2021-11-01', '2021-11-09', '2021-12-06', '2021-12-08', '2021-10-09', '2021-10-31', '2021-09-30', '2021-11-09', '2021-12-13', '2021-10-26', '2021-12-09']  \n",
    "Суммы покупок по датам  \n",
    "[1270, 8413, 9028, 3703, 5739, 4095, 295, 4944, 5723, 3701, 4471, 651, 7037, 4274, 6275, 4988, 6930, 2971, 6592, 2004, 2822, 519, 3406, 2732, 5015, 2008, 316, 6333, 5700, 2887]"
   ]
  },
  {
   "cell_type": "markdown",
   "id": "3b4da200",
   "metadata": {},
   "source": [
    "### 4.1 Найдите, какая выручка у компании в ноябре\n",
    "Используйте list comprehensions"
   ]
  },
  {
   "cell_type": "code",
   "execution_count": 27,
   "id": "81540f65",
   "metadata": {},
   "outputs": [
    {
     "name": "stdout",
     "output_type": "stream",
     "text": [
      "Выручка у компании в ноябре: 25098\n"
     ]
    }
   ],
   "source": [
    "date = ['2021-09-14', '2021-12-15', '2021-09-08', '2021-12-05', '2021-10-09', '2021-09-30', '2021-12-22', '2021-11-29', '2021-12-24', '2021-11-26', '2021-10-27', '2021-12-18', '2021-11-09', '2021-11-23', '2021-09-27', '2021-10-02', '2021-12-27', '2021-09-20', '2021-12-13', '2021-11-01', '2021-11-09', '2021-12-06', '2021-12-08', '2021-10-09', '2021-10-31', '2021-09-30', '2021-11-09', '2021-12-13', '2021-10-26', '2021-12-09']\n",
    "summ = [1270, 8413, 9028, 3703, 5739, 4095, 295, 4944, 5723, 3701, 4471, 651, 7037, 4274, 6275, 4988, 6930, 2971, 6592, 2004, 2822, 519, 3406, 2732, 5015, 2008, 316, 6333, 5700, 2887]\n",
    "\n",
    "november_list = [summ[j]\n",
    "                 for i in range(len(date))\n",
    "                 for j in range(len(summ))\n",
    "                 if i == j and '-11-' in date[i]]\n",
    "print('Выручка у компании в ноябре:', sum(november_list))"
   ]
  },
  {
   "cell_type": "markdown",
   "id": "0e7d95eb",
   "metadata": {},
   "source": [
    "### 4.2 Найдите выручку компании в зависимости от месяца\n",
    "Для этого напишите функцию, которая на вход принимает список с датами и список с выручкой,  \n",
    "а на выходе словарь, где ключи - это месяцы, а значения - это выручка.\n",
    "Используйте аннотирование типов."
   ]
  },
  {
   "cell_type": "code",
   "execution_count": 35,
   "id": "e593d06f",
   "metadata": {},
   "outputs": [
    {
     "name": "stdout",
     "output_type": "stream",
     "text": [
      "{'сентябрь': 25647, 'декабрь': 45452, 'октябрь': 28645, 'ноябрь': 25098}\n"
     ]
    }
   ],
   "source": [
    "def proceed(date: list, summ: list) -> dict:\n",
    "    dict_proceed = {}\n",
    "    for i in range(len(date)):\n",
    "        if '-01-' in date[i]:\n",
    "            dict_proceed['январь'] = dict_proceed.get('январь', 0) + summ[i]\n",
    "        if '-02-' in date[i]:\n",
    "            dict_proceed['февраль'] = dict_proceed.get('февраль', 0) + summ[i]\n",
    "        if '-03-' in date[i]:\n",
    "            dict_proceed['март'] = dict_proceed.get('март', 0) + summ[i]\n",
    "        if '-04-' in date[i]:\n",
    "            dict_proceed['апрель'] = dict_proceed.get('апрель', 0) + summ[i]\n",
    "        if '-05-' in date[i]:\n",
    "            dict_proceed['май'] = dict_proceed.get('май', 0) + summ[i]\n",
    "        if '-06-' in date[i]:\n",
    "            dict_proceed['июнь'] = dict_proceed.get('июнь', 0) + summ[i]\n",
    "        if '-07-' in date[i]:\n",
    "            dict_proceed['июль'] = dict_proceed.get('июль', 0) + summ[i]\n",
    "        if '-08-' in date[i]:\n",
    "            dict_proceed['август'] = dict_proceed.get('август', 0) + summ[i]\n",
    "        if '-09-' in date[i]:\n",
    "            dict_proceed['сентябрь'] = dict_proceed.get('сентябрь', 0) + summ[i]\n",
    "        if '-10-' in date[i]:\n",
    "            dict_proceed['октябрь'] = dict_proceed.get('октябрь', 0) + summ[i]    \n",
    "        if '-11-' in date[i]:\n",
    "            dict_proceed['ноябрь'] = dict_proceed.get('ноябрь', 0) + summ[i]\n",
    "        if '-12-' in date[i]:\n",
    "            dict_proceed['декабрь'] = dict_proceed.get('декабрь', 0) + summ[i]\n",
    "        \n",
    "    return dict_proceed\n",
    "print(proceed(date, summ))"
   ]
  },
  {
   "cell_type": "code",
   "execution_count": null,
   "id": "651c1aac",
   "metadata": {},
   "outputs": [],
   "source": []
  }
 ],
 "metadata": {
  "kernelspec": {
   "display_name": "Python 3 (ipykernel)",
   "language": "python",
   "name": "python3"
  },
  "language_info": {
   "codemirror_mode": {
    "name": "ipython",
    "version": 3
   },
   "file_extension": ".py",
   "mimetype": "text/x-python",
   "name": "python",
   "nbconvert_exporter": "python",
   "pygments_lexer": "ipython3",
   "version": "3.10.9"
  }
 },
 "nbformat": 4,
 "nbformat_minor": 5
}
